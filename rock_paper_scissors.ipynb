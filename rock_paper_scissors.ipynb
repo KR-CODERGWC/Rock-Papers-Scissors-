{
  "nbformat": 4,
  "nbformat_minor": 0,
  "metadata": {
    "colab": {
      "name": "rock_paper_scissors.ipynb",
      "provenance": [],
      "collapsed_sections": [],
      "authorship_tag": "ABX9TyOn9hXibkK5ahKJsuEZyhgl",
      "include_colab_link": true
    },
    "kernelspec": {
      "name": "python3",
      "display_name": "Python 3"
    },
    "language_info": {
      "name": "python"
    }
  },
  "cells": [
    {
      "cell_type": "markdown",
      "metadata": {
        "id": "view-in-github",
        "colab_type": "text"
      },
      "source": [
        "<a href=\"https://colab.research.google.com/github/KR-CODERGWC/Rock-Papers-Scissors-/blob/main/rock_paper_scissors.ipynb\" target=\"_parent\"><img src=\"https://colab.research.google.com/assets/colab-badge.svg\" alt=\"Open In Colab\"/></a>"
      ]
    },
    {
      "cell_type": "code",
      "metadata": {
        "id": "D59CdkUecI56"
      },
      "source": [
        "from random import choice\n",
        "\n",
        "rps = { #Player choice: [winner, loser]\n",
        "    \"choices\": [\"rock\", \"paper\", \"scissors\"], #Possible choices\n",
        "    \"rock\": [\"scissors\", \"paper\"]\n",
        "    \"paper\": [\"rock\", \"scissors\"],\n",
        "    \"scissors\": [\"paper\", \"rock\"]\n",
        "}\n",
        "\n",
        "def checkGame(player, comp):\n",
        "  if(comp == rps[player][0]): #\n",
        "    print(\"Congrats, you won!\")\n",
        "  elif(comp == rps[player][1]):\n",
        "    print(\"The computer threw {0}\".format(comp))#Get computer threw\n",
        "    print(\"Sorry, you lose :(\")\n",
        "  else:\n",
        "    print(\"There was a tie\")\n",
        "  return\n",
        "\n",
        "gameRunning = True #Set automatically to make game run\n",
        "while (gameRunning):\n",
        "  player = input(\"Please pick: rock, paper, or scissors\") #Player pick hand input\n",
        "  comp = choice(rps[\"choices\"]) #Computer hand random\n",
        "  if player in rps[\"choices\"]: #Check if in dictionary\n",
        "    checkGame(player, comp) #Run checkGame\n",
        "  else:\n",
        "    gameRunning = False #End game if choice not in dictionary"
      ],
      "execution_count": null,
      "outputs": []
    }
  ]
}